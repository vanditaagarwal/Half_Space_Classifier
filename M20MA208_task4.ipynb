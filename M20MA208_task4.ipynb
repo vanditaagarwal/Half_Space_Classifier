{
  "nbformat": 4,
  "nbformat_minor": 0,
  "metadata": {
    "colab": {
      "provenance": [],
      "authorship_tag": "ABX9TyMcT/tM+7ocZQ1eDA3omdXm",
      "include_colab_link": true
    },
    "kernelspec": {
      "name": "python3",
      "display_name": "Python 3"
    },
    "language_info": {
      "name": "python"
    }
  },
  "cells": [
    {
      "cell_type": "markdown",
      "metadata": {
        "id": "view-in-github",
        "colab_type": "text"
      },
      "source": [
        "<a href=\"https://colab.research.google.com/github/vanditaagarwal/Half_Space_Classifier/blob/main/M20MA208_task4.ipynb\" target=\"_parent\"><img src=\"https://colab.research.google.com/assets/colab-badge.svg\" alt=\"Open In Colab\"/></a>"
      ]
    },
    {
      "cell_type": "code",
      "execution_count": null,
      "metadata": {
        "id": "_VdF9QA8TEGG"
      },
      "outputs": [],
      "source": [
        "# Importing Libraries\n",
        "\n",
        "import numpy as np\n",
        "import pandas as pd\n",
        "import matplotlib.pyplot as plt\n",
        "import seaborn as sns\n",
        "from scipy.optimize import linprog\n",
        "from sklearn.metrics import precision_score\n",
        "from sklearn.metrics import recall_score"
      ]
    },
    {
      "cell_type": "code",
      "source": [
        "# Loading data\n",
        "\n",
        "data = pd.read_csv(\"/content/diabetes.csv\")\n",
        "data.head()"
      ],
      "metadata": {
        "colab": {
          "base_uri": "https://localhost:8080/",
          "height": 206
        },
        "id": "rH3uSEozTKIN",
        "outputId": "60a137c2-a4b6-4785-fb67-29c974a590b7"
      },
      "execution_count": null,
      "outputs": [
        {
          "output_type": "execute_result",
          "data": {
            "text/plain": [
              "   Pregnancies  Glucose  BloodPressure  SkinThickness  Insulin   BMI  \\\n",
              "0            6      148             72             35        0  33.6   \n",
              "1            1       85             66             29        0  26.6   \n",
              "2            8      183             64              0        0  23.3   \n",
              "3            1       89             66             23       94  28.1   \n",
              "4            0      137             40             35      168  43.1   \n",
              "\n",
              "   DiabetesPedigreeFunction  Age  Outcome  \n",
              "0                     0.627   50        1  \n",
              "1                     0.351   31        0  \n",
              "2                     0.672   32        1  \n",
              "3                     0.167   21        0  \n",
              "4                     2.288   33        1  "
            ],
            "text/html": [
              "\n",
              "  <div id=\"df-c2ac2293-f039-4078-ae38-6bbdfb3b880d\">\n",
              "    <div class=\"colab-df-container\">\n",
              "      <div>\n",
              "<style scoped>\n",
              "    .dataframe tbody tr th:only-of-type {\n",
              "        vertical-align: middle;\n",
              "    }\n",
              "\n",
              "    .dataframe tbody tr th {\n",
              "        vertical-align: top;\n",
              "    }\n",
              "\n",
              "    .dataframe thead th {\n",
              "        text-align: right;\n",
              "    }\n",
              "</style>\n",
              "<table border=\"1\" class=\"dataframe\">\n",
              "  <thead>\n",
              "    <tr style=\"text-align: right;\">\n",
              "      <th></th>\n",
              "      <th>Pregnancies</th>\n",
              "      <th>Glucose</th>\n",
              "      <th>BloodPressure</th>\n",
              "      <th>SkinThickness</th>\n",
              "      <th>Insulin</th>\n",
              "      <th>BMI</th>\n",
              "      <th>DiabetesPedigreeFunction</th>\n",
              "      <th>Age</th>\n",
              "      <th>Outcome</th>\n",
              "    </tr>\n",
              "  </thead>\n",
              "  <tbody>\n",
              "    <tr>\n",
              "      <th>0</th>\n",
              "      <td>6</td>\n",
              "      <td>148</td>\n",
              "      <td>72</td>\n",
              "      <td>35</td>\n",
              "      <td>0</td>\n",
              "      <td>33.6</td>\n",
              "      <td>0.627</td>\n",
              "      <td>50</td>\n",
              "      <td>1</td>\n",
              "    </tr>\n",
              "    <tr>\n",
              "      <th>1</th>\n",
              "      <td>1</td>\n",
              "      <td>85</td>\n",
              "      <td>66</td>\n",
              "      <td>29</td>\n",
              "      <td>0</td>\n",
              "      <td>26.6</td>\n",
              "      <td>0.351</td>\n",
              "      <td>31</td>\n",
              "      <td>0</td>\n",
              "    </tr>\n",
              "    <tr>\n",
              "      <th>2</th>\n",
              "      <td>8</td>\n",
              "      <td>183</td>\n",
              "      <td>64</td>\n",
              "      <td>0</td>\n",
              "      <td>0</td>\n",
              "      <td>23.3</td>\n",
              "      <td>0.672</td>\n",
              "      <td>32</td>\n",
              "      <td>1</td>\n",
              "    </tr>\n",
              "    <tr>\n",
              "      <th>3</th>\n",
              "      <td>1</td>\n",
              "      <td>89</td>\n",
              "      <td>66</td>\n",
              "      <td>23</td>\n",
              "      <td>94</td>\n",
              "      <td>28.1</td>\n",
              "      <td>0.167</td>\n",
              "      <td>21</td>\n",
              "      <td>0</td>\n",
              "    </tr>\n",
              "    <tr>\n",
              "      <th>4</th>\n",
              "      <td>0</td>\n",
              "      <td>137</td>\n",
              "      <td>40</td>\n",
              "      <td>35</td>\n",
              "      <td>168</td>\n",
              "      <td>43.1</td>\n",
              "      <td>2.288</td>\n",
              "      <td>33</td>\n",
              "      <td>1</td>\n",
              "    </tr>\n",
              "  </tbody>\n",
              "</table>\n",
              "</div>\n",
              "      <button class=\"colab-df-convert\" onclick=\"convertToInteractive('df-c2ac2293-f039-4078-ae38-6bbdfb3b880d')\"\n",
              "              title=\"Convert this dataframe to an interactive table.\"\n",
              "              style=\"display:none;\">\n",
              "        \n",
              "  <svg xmlns=\"http://www.w3.org/2000/svg\" height=\"24px\"viewBox=\"0 0 24 24\"\n",
              "       width=\"24px\">\n",
              "    <path d=\"M0 0h24v24H0V0z\" fill=\"none\"/>\n",
              "    <path d=\"M18.56 5.44l.94 2.06.94-2.06 2.06-.94-2.06-.94-.94-2.06-.94 2.06-2.06.94zm-11 1L8.5 8.5l.94-2.06 2.06-.94-2.06-.94L8.5 2.5l-.94 2.06-2.06.94zm10 10l.94 2.06.94-2.06 2.06-.94-2.06-.94-.94-2.06-.94 2.06-2.06.94z\"/><path d=\"M17.41 7.96l-1.37-1.37c-.4-.4-.92-.59-1.43-.59-.52 0-1.04.2-1.43.59L10.3 9.45l-7.72 7.72c-.78.78-.78 2.05 0 2.83L4 21.41c.39.39.9.59 1.41.59.51 0 1.02-.2 1.41-.59l7.78-7.78 2.81-2.81c.8-.78.8-2.07 0-2.86zM5.41 20L4 18.59l7.72-7.72 1.47 1.35L5.41 20z\"/>\n",
              "  </svg>\n",
              "      </button>\n",
              "      \n",
              "  <style>\n",
              "    .colab-df-container {\n",
              "      display:flex;\n",
              "      flex-wrap:wrap;\n",
              "      gap: 12px;\n",
              "    }\n",
              "\n",
              "    .colab-df-convert {\n",
              "      background-color: #E8F0FE;\n",
              "      border: none;\n",
              "      border-radius: 50%;\n",
              "      cursor: pointer;\n",
              "      display: none;\n",
              "      fill: #1967D2;\n",
              "      height: 32px;\n",
              "      padding: 0 0 0 0;\n",
              "      width: 32px;\n",
              "    }\n",
              "\n",
              "    .colab-df-convert:hover {\n",
              "      background-color: #E2EBFA;\n",
              "      box-shadow: 0px 1px 2px rgba(60, 64, 67, 0.3), 0px 1px 3px 1px rgba(60, 64, 67, 0.15);\n",
              "      fill: #174EA6;\n",
              "    }\n",
              "\n",
              "    [theme=dark] .colab-df-convert {\n",
              "      background-color: #3B4455;\n",
              "      fill: #D2E3FC;\n",
              "    }\n",
              "\n",
              "    [theme=dark] .colab-df-convert:hover {\n",
              "      background-color: #434B5C;\n",
              "      box-shadow: 0px 1px 3px 1px rgba(0, 0, 0, 0.15);\n",
              "      filter: drop-shadow(0px 1px 2px rgba(0, 0, 0, 0.3));\n",
              "      fill: #FFFFFF;\n",
              "    }\n",
              "  </style>\n",
              "\n",
              "      <script>\n",
              "        const buttonEl =\n",
              "          document.querySelector('#df-c2ac2293-f039-4078-ae38-6bbdfb3b880d button.colab-df-convert');\n",
              "        buttonEl.style.display =\n",
              "          google.colab.kernel.accessAllowed ? 'block' : 'none';\n",
              "\n",
              "        async function convertToInteractive(key) {\n",
              "          const element = document.querySelector('#df-c2ac2293-f039-4078-ae38-6bbdfb3b880d');\n",
              "          const dataTable =\n",
              "            await google.colab.kernel.invokeFunction('convertToInteractive',\n",
              "                                                     [key], {});\n",
              "          if (!dataTable) return;\n",
              "\n",
              "          const docLinkHtml = 'Like what you see? Visit the ' +\n",
              "            '<a target=\"_blank\" href=https://colab.research.google.com/notebooks/data_table.ipynb>data table notebook</a>'\n",
              "            + ' to learn more about interactive tables.';\n",
              "          element.innerHTML = '';\n",
              "          dataTable['output_type'] = 'display_data';\n",
              "          await google.colab.output.renderOutput(dataTable, element);\n",
              "          const docLink = document.createElement('div');\n",
              "          docLink.innerHTML = docLinkHtml;\n",
              "          element.appendChild(docLink);\n",
              "        }\n",
              "      </script>\n",
              "    </div>\n",
              "  </div>\n",
              "  "
            ]
          },
          "metadata": {},
          "execution_count": 2
        }
      ]
    },
    {
      "cell_type": "code",
      "source": [
        "#Initializing x and y\n",
        "\n",
        "y = data['Outcome'].values\n",
        "x = data.drop([\"Outcome\"], axis = 1)"
      ],
      "metadata": {
        "id": "1L4r76s3XiaW"
      },
      "execution_count": null,
      "outputs": []
    },
    {
      "cell_type": "code",
      "source": [
        "# Normalizing the features data\n",
        "\n",
        "x = (x - np.min(x))/(np.max(x)-np.min(x)).values\n",
        "features=x.shape[1]\n",
        "x = np.array(x)"
      ],
      "metadata": {
        "id": "M5AKNc2gTb1h"
      },
      "execution_count": null,
      "outputs": []
    },
    {
      "cell_type": "code",
      "source": [
        "for i in range(len(y)):\n",
        "  if y[i]==0:\n",
        "    y[i]=-1"
      ],
      "metadata": {
        "id": "Ghk-d6FEVOCV"
      },
      "execution_count": null,
      "outputs": []
    },
    {
      "cell_type": "code",
      "source": [
        "# Train-Test Split (60:40)\n",
        "\n",
        "from sklearn.model_selection import train_test_split\n",
        "x_train, x_test, y_train, y_test = train_test_split(x, y, test_size = 0.40, random_state = 0)\n",
        "\n",
        "L=[]\n",
        "for i in range(len(x_train)):\n",
        "    L.append(list(y_train[i]*x_train[i]))\n",
        "\n",
        "\n",
        "b = -np.ones(len(x_train)).T\n",
        "c = np.zeros(features)\n",
        "response = linprog(c, A_ub=L, b_ub=b)\n",
        "print(response.success)\n",
        "w= response.x\n"
      ],
      "metadata": {
        "colab": {
          "base_uri": "https://localhost:8080/"
        },
        "id": "0y5EFRd4W74d",
        "outputId": "86d13c6d-d270-4028-cec4-fc8e0d6ba691"
      },
      "execution_count": null,
      "outputs": [
        {
          "output_type": "stream",
          "name": "stdout",
          "text": [
            "False\n"
          ]
        }
      ]
    },
    {
      "cell_type": "code",
      "source": [
        "# Optimizing Weights\n",
        "\n",
        "P=[]\n",
        "for i in range(len(x_test)):\n",
        "    P.append(list(y_test[i]*x_test[i]))\n",
        "\n",
        "y_pred=[]\n",
        "for i in range(len(x_test)):\n",
        "    if sum(w*P[i])>0:\n",
        "        y_pred.append(1)\n",
        "    else:\n",
        "        y_pred.append(-1)"
      ],
      "metadata": {
        "id": "ua-M4NNbbCcH"
      },
      "execution_count": null,
      "outputs": []
    },
    {
      "cell_type": "code",
      "source": [
        "# Calculating Accuracy\n",
        "\n",
        "def accuracy(y_true, y_predicted):\n",
        "    accuracy = np.sum(y_true == y_pred) / len(y_true)\n",
        "    return accuracy\n",
        "print(\"Accuracy: \", accuracy(y_test, y_pred))"
      ],
      "metadata": {
        "colab": {
          "base_uri": "https://localhost:8080/"
        },
        "id": "6OVHz992cHAm",
        "outputId": "718a40c9-903c-4f47-ecdd-3d601107987a"
      },
      "execution_count": null,
      "outputs": [
        {
          "output_type": "stream",
          "name": "stdout",
          "text": [
            "Accuracy:  1.0\n"
          ]
        }
      ]
    },
    {
      "cell_type": "code",
      "source": [
        "#calculating precision\n",
        "precision = precision_score(y_test, y_pred)\n",
        "recall = recall_score(y_test, y_pred)\n",
        "\n",
        "#def precision(y_true, y_predicted):\n",
        "#  precision = np.sum(y_true == y_predicted) / (np.sum(y_true == y_predicted) + np.sum(y_true.iloc[:,1] == 1 & y_predicted.iloc[:,1] == 0))\n",
        "#  return precision\n",
        "print(\"Precision: \", precision)\n",
        "print(\"Recall: \", recall)\n"
      ],
      "metadata": {
        "colab": {
          "base_uri": "https://localhost:8080/"
        },
        "id": "jksFtwuKcjK0",
        "outputId": "e1d19fc7-e377-44a2-8c9e-adb40e93e833"
      },
      "execution_count": null,
      "outputs": [
        {
          "output_type": "stream",
          "name": "stdout",
          "text": [
            "Precision:  1.0\n",
            "Recall:  1.0\n"
          ]
        }
      ]
    },
    {
      "cell_type": "code",
      "source": [
        "#calculating F1 score\n",
        "\n",
        "F1score = 2*((precision*recall)/(precision+recall))\n",
        "print(\"F1 score: \", F1score)"
      ],
      "metadata": {
        "colab": {
          "base_uri": "https://localhost:8080/"
        },
        "id": "hHelxckwgZ8C",
        "outputId": "e3612976-08fc-4d3f-8a95-400c372822fb"
      },
      "execution_count": null,
      "outputs": [
        {
          "output_type": "stream",
          "name": "stdout",
          "text": [
            "F1 score:  1.0\n"
          ]
        }
      ]
    },
    {
      "cell_type": "code",
      "source": [],
      "metadata": {
        "id": "8alTu7b4GYut"
      },
      "execution_count": null,
      "outputs": []
    },
    {
      "cell_type": "code",
      "source": [],
      "metadata": {
        "id": "cWyWxRRQHFrn"
      },
      "execution_count": null,
      "outputs": []
    },
    {
      "cell_type": "code",
      "source": [],
      "metadata": {
        "id": "kvmm9EalHF3j"
      },
      "execution_count": null,
      "outputs": []
    },
    {
      "cell_type": "code",
      "source": [
        "# Train-Test Split (70:30)\n",
        "\n",
        "from sklearn.model_selection import train_test_split\n",
        "x1_train, x1_test, y1_train, y1_test = train_test_split(x, y, test_size = 0.30, random_state = 0)\n",
        "\n",
        "A=[]\n",
        "for i in range(len(x1_train)):\n",
        "    A.append(list(y1_train[i]*x1_train[i]))\n",
        "\n",
        "\n",
        "b = -np.ones(len(x1_train)).T\n",
        "c = np.zeros(features)\n",
        "response = linprog(c, A_ub=A, b_ub=b)\n",
        "print(response.success)\n",
        "w= response.x\n"
      ],
      "metadata": {
        "colab": {
          "base_uri": "https://localhost:8080/"
        },
        "id": "ZBC78cSNGYxg",
        "outputId": "8d730944-d327-46f7-ee8b-f1a9c46e8b27"
      },
      "execution_count": null,
      "outputs": [
        {
          "output_type": "stream",
          "name": "stdout",
          "text": [
            "False\n"
          ]
        }
      ]
    },
    {
      "cell_type": "code",
      "source": [
        "# Optimizing Weights\n",
        "\n",
        "Q=[]\n",
        "for i in range(len(x1_test)):\n",
        "    Q.append(list(y1_test[i]*x1_test[i]))\n",
        "\n",
        "y1_pred=[]\n",
        "for i in range(len(x1_test)):\n",
        "    if sum(w*Q[i])>0:\n",
        "        y1_pred.append(1)\n",
        "    else:\n",
        "        y1_pred.append(-1)"
      ],
      "metadata": {
        "id": "BHBw9vgKGY0f"
      },
      "execution_count": null,
      "outputs": []
    },
    {
      "cell_type": "code",
      "source": [
        "# Calculating Accuracy\n",
        "\n",
        "def accuracy(y_true, y_predicted):\n",
        "    accuracy = np.sum(y_true == y_pred) / len(y_true)\n",
        "    return accuracy\n",
        "print(\"Accuracy: \", accuracy(y1_test, y1_pred))"
      ],
      "metadata": {
        "colab": {
          "base_uri": "https://localhost:8080/"
        },
        "id": "wq8VFywqGY3p",
        "outputId": "7eee3905-4413-464d-aaa8-c2d63ebf458b"
      },
      "execution_count": null,
      "outputs": [
        {
          "output_type": "stream",
          "name": "stdout",
          "text": [
            "Accuracy:  0.0\n"
          ]
        },
        {
          "output_type": "stream",
          "name": "stderr",
          "text": [
            "/usr/local/lib/python3.7/dist-packages/ipykernel_launcher.py:4: DeprecationWarning: elementwise comparison failed; this will raise an error in the future.\n",
            "  after removing the cwd from sys.path.\n"
          ]
        }
      ]
    },
    {
      "cell_type": "code",
      "source": [
        "#calculating precision\n",
        "precision = precision_score(y1_test, y1_pred)\n",
        "recall = recall_score(y1_test, y1_pred)\n",
        "\n",
        "#def precision(y_true, y_predicted):\n",
        "#  precision = np.sum(y_true == y_predicted) / (np.sum(y_true == y_predicted) + np.sum(y_true.iloc[:,1] == 1 & y_predicted.iloc[:,1] == 0))\n",
        "#  return precision\n",
        "print(\"Precision: \", precision)\n",
        "print(\"Recall: \", recall)\n"
      ],
      "metadata": {
        "colab": {
          "base_uri": "https://localhost:8080/"
        },
        "id": "kaVkngzXGY7j",
        "outputId": "d6336779-3a29-492a-86b2-2a9346beb68e"
      },
      "execution_count": null,
      "outputs": [
        {
          "output_type": "stream",
          "name": "stdout",
          "text": [
            "Precision:  1.0\n",
            "Recall:  1.0\n"
          ]
        }
      ]
    },
    {
      "cell_type": "code",
      "source": [
        "#calculating F1 score\n",
        "\n",
        "F1score = 2*((precision*recall)/(precision+recall))\n",
        "print(\"F1 score: \", F1score)"
      ],
      "metadata": {
        "colab": {
          "base_uri": "https://localhost:8080/"
        },
        "id": "uG7G4aUjGY_V",
        "outputId": "f4c34529-b32b-43a1-d139-37850089bf91"
      },
      "execution_count": null,
      "outputs": [
        {
          "output_type": "stream",
          "name": "stdout",
          "text": [
            "F1 score:  1.0\n"
          ]
        }
      ]
    },
    {
      "cell_type": "code",
      "source": [],
      "metadata": {
        "id": "i4qgFzI5GZCp"
      },
      "execution_count": null,
      "outputs": []
    },
    {
      "cell_type": "code",
      "source": [],
      "metadata": {
        "id": "NCqXxYM3JI__"
      },
      "execution_count": null,
      "outputs": []
    },
    {
      "cell_type": "code",
      "source": [],
      "metadata": {
        "id": "_KEx6RqbJJJE"
      },
      "execution_count": null,
      "outputs": []
    },
    {
      "cell_type": "code",
      "source": [
        "# Train-Test Split (80:20)\n",
        "\n",
        "from sklearn.model_selection import train_test_split\n",
        "x2_train, x2_test, y2_train, y2_test = train_test_split(x, y, test_size = 0.20, random_state = 0)\n",
        "\n",
        "B=[]\n",
        "for i in range(len(x2_train)):\n",
        "    B.append(list(y2_train[i]*x2_train[i]))\n",
        "\n",
        "\n",
        "b = -np.ones(len(x2_train)).T\n",
        "c = np.zeros(features)\n",
        "response = linprog(c, A_ub=B, b_ub=b)\n",
        "print(response.success)\n",
        "w= response.x"
      ],
      "metadata": {
        "colab": {
          "base_uri": "https://localhost:8080/"
        },
        "id": "qVQAh2QPGZHN",
        "outputId": "44a11cbb-9e8b-4c98-9675-65943a1fa276"
      },
      "execution_count": null,
      "outputs": [
        {
          "output_type": "stream",
          "name": "stdout",
          "text": [
            "False\n"
          ]
        }
      ]
    },
    {
      "cell_type": "code",
      "source": [
        "# Optimizing Weights\n",
        "\n",
        "R=[]\n",
        "for i in range(len(x2_test)):\n",
        "    R.append(list(y2_test[i]*x2_test[i]))\n",
        "\n",
        "y2_pred=[]\n",
        "for i in range(len(x2_test)):\n",
        "    if sum(w*R[i])>0:\n",
        "        y2_pred.append(1)\n",
        "    else:\n",
        "        y2_pred.append(-1)"
      ],
      "metadata": {
        "id": "cdiyQ4ZtJkqm"
      },
      "execution_count": null,
      "outputs": []
    },
    {
      "cell_type": "code",
      "source": [
        "# Calculating Accuracy\n",
        "\n",
        "def accuracy(y_true, y_predicted):\n",
        "    accuracy = np.sum(y_true == y_pred) / len(y_true)\n",
        "    return accuracy\n",
        "print(\"Accuracy: \", accuracy(y2_test, y2_pred))"
      ],
      "metadata": {
        "colab": {
          "base_uri": "https://localhost:8080/"
        },
        "id": "s1xo0WrYJkt7",
        "outputId": "da86a525-3fed-4e65-e931-5eaf430158a7"
      },
      "execution_count": null,
      "outputs": [
        {
          "output_type": "stream",
          "name": "stdout",
          "text": [
            "Accuracy:  0.0\n"
          ]
        },
        {
          "output_type": "stream",
          "name": "stderr",
          "text": [
            "/usr/local/lib/python3.7/dist-packages/ipykernel_launcher.py:4: DeprecationWarning: elementwise comparison failed; this will raise an error in the future.\n",
            "  after removing the cwd from sys.path.\n"
          ]
        }
      ]
    },
    {
      "cell_type": "code",
      "source": [
        "#calculating precision\n",
        "precision = precision_score(y2_test, y2_pred)\n",
        "recall = recall_score(y2_test, y2_pred)\n",
        "\n",
        "#def precision(y_true, y_predicted):\n",
        "#  precision = np.sum(y_true == y_predicted) / (np.sum(y_true == y_predicted) + np.sum(y_true.iloc[:,1] == 1 & y_predicted.iloc[:,1] == 0))\n",
        "#  return precision\n",
        "print(\"Precision: \", precision)\n",
        "print(\"Recall: \", recall)\n"
      ],
      "metadata": {
        "colab": {
          "base_uri": "https://localhost:8080/"
        },
        "id": "IrAzEvw-Jk4A",
        "outputId": "db8e57a0-f081-40db-bc1a-77e744cd37fe"
      },
      "execution_count": null,
      "outputs": [
        {
          "output_type": "stream",
          "name": "stdout",
          "text": [
            "Precision:  1.0\n",
            "Recall:  1.0\n"
          ]
        }
      ]
    },
    {
      "cell_type": "code",
      "source": [
        "#calculating F1 score\n",
        "\n",
        "F1score = 2*((precision*recall)/(precision+recall))\n",
        "print(\"F1 score: \", F1score)"
      ],
      "metadata": {
        "colab": {
          "base_uri": "https://localhost:8080/"
        },
        "id": "WohT0U3XNYep",
        "outputId": "cd569388-a4b3-463c-b8d1-4e571bbefadd"
      },
      "execution_count": null,
      "outputs": [
        {
          "output_type": "stream",
          "name": "stdout",
          "text": [
            "F1 score:  1.0\n"
          ]
        }
      ]
    },
    {
      "cell_type": "code",
      "source": [],
      "metadata": {
        "id": "WIwKochWNYhx"
      },
      "execution_count": null,
      "outputs": []
    },
    {
      "cell_type": "code",
      "source": [],
      "metadata": {
        "id": "jIPaa4WHNYlE"
      },
      "execution_count": null,
      "outputs": []
    },
    {
      "cell_type": "code",
      "source": [],
      "metadata": {
        "id": "JHQAyHtXNYoM"
      },
      "execution_count": null,
      "outputs": []
    },
    {
      "cell_type": "code",
      "source": [
        "# Train-Test Split (90:10)\n",
        "\n",
        "from sklearn.model_selection import train_test_split\n",
        "x3_train, x3_test, y3_train, y3_test = train_test_split(x, y, test_size = 0.10, random_state = 0)\n",
        "\n",
        "C=[]\n",
        "for i in range(len(x3_train)):\n",
        "    C.append(list(y3_train[i]*x3_train[i]))\n",
        "\n",
        "\n",
        "b = -np.ones(len(x3_train)).T\n",
        "c = np.zeros(features)\n",
        "response = linprog(c, A_ub=C, b_ub=b)\n",
        "print(response.success)\n",
        "w= response.x"
      ],
      "metadata": {
        "colab": {
          "base_uri": "https://localhost:8080/"
        },
        "id": "p8hGArfPNYrZ",
        "outputId": "7df36dd8-1c5e-4f76-ff15-957295b24c62"
      },
      "execution_count": null,
      "outputs": [
        {
          "output_type": "stream",
          "name": "stdout",
          "text": [
            "False\n"
          ]
        }
      ]
    },
    {
      "cell_type": "code",
      "source": [
        "# Optimizing Weights\n",
        "\n",
        "S=[]\n",
        "for i in range(len(x3_test)):\n",
        "    S.append(list(y3_test[i]*x3_test[i]))\n",
        "\n",
        "y3_pred=[]\n",
        "for i in range(len(x3_test)):\n",
        "    if sum(w*S[i])>0:\n",
        "        y3_pred.append(1)\n",
        "    else:\n",
        "        y3_pred.append(-1)"
      ],
      "metadata": {
        "id": "LkTi36IYNYub"
      },
      "execution_count": null,
      "outputs": []
    },
    {
      "cell_type": "code",
      "source": [
        "# Calculating Accuracy\n",
        "\n",
        "def accuracy(y_true, y_predicted):\n",
        "    accuracy = np.sum(y_true == y_pred) / len(y_true)\n",
        "    return accuracy\n",
        "print(\"Accuracy: \", accuracy(y3_test, y3_pred))"
      ],
      "metadata": {
        "colab": {
          "base_uri": "https://localhost:8080/"
        },
        "id": "4kXuL7OvNYx0",
        "outputId": "d533f97e-1d69-4db3-f9c1-277f7c6ba626"
      },
      "execution_count": null,
      "outputs": [
        {
          "output_type": "stream",
          "name": "stdout",
          "text": [
            "Accuracy:  0.0\n"
          ]
        },
        {
          "output_type": "stream",
          "name": "stderr",
          "text": [
            "/usr/local/lib/python3.7/dist-packages/ipykernel_launcher.py:4: DeprecationWarning: elementwise comparison failed; this will raise an error in the future.\n",
            "  after removing the cwd from sys.path.\n"
          ]
        }
      ]
    },
    {
      "cell_type": "code",
      "source": [
        "#calculating precision\n",
        "precision = precision_score(y3_test, y3_pred)\n",
        "recall = recall_score(y3_test, y3_pred)\n",
        "\n",
        "#def precision(y_true, y_predicted):\n",
        "#  precision = np.sum(y_true == y_predicted) / (np.sum(y_true == y_predicted) + np.sum(y_true.iloc[:,1] == 1 & y_predicted.iloc[:,1] == 0))\n",
        "#  return precision\n",
        "print(\"Precision: \", precision)\n",
        "print(\"Recall: \", recall)\n"
      ],
      "metadata": {
        "colab": {
          "base_uri": "https://localhost:8080/"
        },
        "id": "rVqfD05aOZ2y",
        "outputId": "65ad64ab-d9b0-4a4a-dc64-8dae43a0a774"
      },
      "execution_count": null,
      "outputs": [
        {
          "output_type": "stream",
          "name": "stdout",
          "text": [
            "Precision:  1.0\n",
            "Recall:  1.0\n"
          ]
        }
      ]
    },
    {
      "cell_type": "code",
      "source": [
        "#calculating F1 score\n",
        "\n",
        "F1score = 2*((precision*recall)/(precision+recall))\n",
        "print(\"F1 score: \", F1score)"
      ],
      "metadata": {
        "colab": {
          "base_uri": "https://localhost:8080/"
        },
        "id": "5dl-VeYSOZ6M",
        "outputId": "4f4d46cc-afd0-45a7-e067-dc75a3ade72e"
      },
      "execution_count": null,
      "outputs": [
        {
          "output_type": "stream",
          "name": "stdout",
          "text": [
            "F1 score:  1.0\n"
          ]
        }
      ]
    }
  ]
}